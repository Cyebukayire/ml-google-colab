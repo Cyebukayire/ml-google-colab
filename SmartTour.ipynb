{
  "nbformat": 4,
  "nbformat_minor": 0,
  "metadata": {
    "colab": {
      "name": "SmartTour.ipynb",
      "provenance": [],
      "collapsed_sections": [],
      "authorship_tag": "ABX9TyOmHjiKghl3N/k5cFl5J7zi",
      "include_colab_link": true
    },
    "kernelspec": {
      "name": "python3",
      "display_name": "Python 3"
    },
    "language_info": {
      "name": "python"
    }
  },
  "cells": [
    {
      "cell_type": "markdown",
      "metadata": {
        "id": "view-in-github",
        "colab_type": "text"
      },
      "source": [
        "<a href=\"https://colab.research.google.com/github/Cyebukayire/ml-google-colab/blob/main/SmartTour.ipynb\" target=\"_parent\"><img src=\"https://colab.research.google.com/assets/colab-badge.svg\" alt=\"Open In Colab\"/></a>"
      ]
    },
    {
      "cell_type": "code",
      "metadata": {
        "id": "NufvEHftioBU"
      },
      "source": [
        "import pandas as pd\n",
        "import numpy as np\n",
        "import seaborn as sns\n",
        "import matplotlib.pyplot as plt\n"
      ],
      "execution_count": 5,
      "outputs": []
    },
    {
      "cell_type": "code",
      "metadata": {
        "colab": {
          "base_uri": "https://localhost:8080/"
        },
        "id": "FoVLb2YBi76N",
        "outputId": "cb392cd8-a992-4990-cf40-a7b5c77e90d9"
      },
      "source": [
        "from google.colab import drive\n",
        "drive.mount('/content/drive')"
      ],
      "execution_count": 1,
      "outputs": [
        {
          "output_type": "stream",
          "name": "stdout",
          "text": [
            "Mounted at /content/drive\n"
          ]
        }
      ]
    },
    {
      "cell_type": "code",
      "metadata": {
        "id": "AJQgDGnZjC_c"
      },
      "source": [
        "tourism_data = pd.read_csv(\"/content/drive/MyDrive/TouristCenterData_2.csv\")"
      ],
      "execution_count": 6,
      "outputs": []
    },
    {
      "cell_type": "code",
      "metadata": {
        "colab": {
          "base_uri": "https://localhost:8080/",
          "height": 178
        },
        "id": "50KxQduslkhX",
        "outputId": "86663475-87e6-4e1a-ffc9-371501aa7e33"
      },
      "source": [
        "tourism_data.head(3)"
      ],
      "execution_count": 7,
      "outputs": [
        {
          "output_type": "execute_result",
          "data": {
            "text/html": [
              "<div>\n",
              "<style scoped>\n",
              "    .dataframe tbody tr th:only-of-type {\n",
              "        vertical-align: middle;\n",
              "    }\n",
              "\n",
              "    .dataframe tbody tr th {\n",
              "        vertical-align: top;\n",
              "    }\n",
              "\n",
              "    .dataframe thead th {\n",
              "        text-align: right;\n",
              "    }\n",
              "</style>\n",
              "<table border=\"1\" class=\"dataframe\">\n",
              "  <thead>\n",
              "    <tr style=\"text-align: right;\">\n",
              "      <th></th>\n",
              "      <th>Gender</th>\n",
              "      <th>Age_Group</th>\n",
              "      <th>Attraction_Visited</th>\n",
              "      <th>Days_Spent</th>\n",
              "      <th>State_Located</th>\n",
              "      <th>Persons_Visited_With</th>\n",
              "      <th>Total_Females</th>\n",
              "      <th>Total_Males</th>\n",
              "      <th>Purpose_of_Visit</th>\n",
              "      <th>Amount_Spent</th>\n",
              "      <th>Nature_of_Spender</th>\n",
              "    </tr>\n",
              "  </thead>\n",
              "  <tbody>\n",
              "    <tr>\n",
              "      <th>0</th>\n",
              "      <td>Male</td>\n",
              "      <td>36-45</td>\n",
              "      <td>Beach Resorts</td>\n",
              "      <td>2</td>\n",
              "      <td>Lagos</td>\n",
              "      <td>Friend(s)</td>\n",
              "      <td>1</td>\n",
              "      <td>1</td>\n",
              "      <td>Leisure and Holidays</td>\n",
              "      <td>150000</td>\n",
              "      <td>Conservative spender</td>\n",
              "    </tr>\n",
              "    <tr>\n",
              "      <th>1</th>\n",
              "      <td>Female</td>\n",
              "      <td>less than 18</td>\n",
              "      <td>Lekki Conservative Center</td>\n",
              "      <td>1</td>\n",
              "      <td>Lagos</td>\n",
              "      <td>Friend(s)</td>\n",
              "      <td>4</td>\n",
              "      <td>0</td>\n",
              "      <td>Leisure and Holidays</td>\n",
              "      <td>7000</td>\n",
              "      <td>Conservative spender</td>\n",
              "    </tr>\n",
              "    <tr>\n",
              "      <th>2</th>\n",
              "      <td>Male</td>\n",
              "      <td>26-35</td>\n",
              "      <td>Restaurant</td>\n",
              "      <td>5</td>\n",
              "      <td>Oyo</td>\n",
              "      <td>Friend(s)</td>\n",
              "      <td>1</td>\n",
              "      <td>1</td>\n",
              "      <td>Leisure and Holidays</td>\n",
              "      <td>7000</td>\n",
              "      <td>Conservative spender</td>\n",
              "    </tr>\n",
              "  </tbody>\n",
              "</table>\n",
              "</div>"
            ],
            "text/plain": [
              "   Gender     Age_Group  ... Amount_Spent     Nature_of_Spender\n",
              "0    Male         36-45  ...       150000  Conservative spender\n",
              "1  Female  less than 18  ...         7000  Conservative spender\n",
              "2    Male         26-35  ...         7000  Conservative spender\n",
              "\n",
              "[3 rows x 11 columns]"
            ]
          },
          "metadata": {},
          "execution_count": 7
        }
      ]
    },
    {
      "cell_type": "code",
      "metadata": {
        "colab": {
          "base_uri": "https://localhost:8080/",
          "height": 307
        },
        "id": "XSYKavCxlpzf",
        "outputId": "625357e4-8268-4c52-dcf9-3e4ed447de10"
      },
      "source": [
        "sns.boxplot(x=\"Gender\", y=\"Amount_Spent\", data=tourism_data)"
      ],
      "execution_count": 8,
      "outputs": [
        {
          "output_type": "execute_result",
          "data": {
            "text/plain": [
              "<matplotlib.axes._subplots.AxesSubplot at 0x7f6bfece7e50>"
            ]
          },
          "metadata": {},
          "execution_count": 8
        },
        {
          "output_type": "display_data",
          "data": {
            "image/png": "[encoded data removed]",
            "text/plain": [
              "<Figure size 432x288 with 1 Axes>"
            ]
          },
          "metadata": {
            "needs_background": "light"
          }
        }
      ]
    },
    {
      "cell_type": "code",
      "metadata": {
        "colab": {
          "base_uri": "https://localhost:8080/"
        },
        "id": "JxgCmm6S_OwC",
        "outputId": "06cbee98-e639-48e8-d60b-19c7bacd3e97"
      },
      "source": [
        "tourism_data.shape"
      ],
      "execution_count": 10,
      "outputs": [
        {
          "output_type": "execute_result",
          "data": {
            "text/plain": [
              "(51, 11)"
            ]
          },
          "metadata": {},
          "execution_count": 10
        }
      ]
    },
    {
      "cell_type": "code",
      "metadata": {
        "colab": {
          "base_uri": "https://localhost:8080/"
        },
        "id": "WSlin1Ecr21T",
        "outputId": "f9c180bf-9aa4-45bb-dc9e-9ec5780b7bad"
      },
      "source": [
        "tourism_data.info()"
      ],
      "execution_count": 11,
      "outputs": [
        {
          "output_type": "stream",
          "name": "stdout",
          "text": [
            "<class 'pandas.core.frame.DataFrame'>\n",
            "RangeIndex: 51 entries, 0 to 50\n",
            "Data columns (total 11 columns):\n",
            " #   Column                Non-Null Count  Dtype \n",
            "---  ------                --------------  ----- \n",
            " 0   Gender                51 non-null     object\n",
            " 1   Age_Group             51 non-null     object\n",
            " 2   Attraction_Visited    51 non-null     object\n",
            " 3   Days_Spent            51 non-null     int64 \n",
            " 4   State_Located         51 non-null     object\n",
            " 5   Persons_Visited_With  51 non-null     object\n",
            " 6   Total_Females         51 non-null     int64 \n",
            " 7   Total_Males           51 non-null     int64 \n",
            " 8   Purpose_of_Visit      51 non-null     object\n",
            " 9   Amount_Spent          51 non-null     int64 \n",
            " 10  Nature_of_Spender     51 non-null     object\n",
            "dtypes: int64(4), object(7)\n",
            "memory usage: 4.5+ KB\n"
          ]
        }
      ]
    },
    {
      "cell_type": "code",
      "metadata": {
        "colab": {
          "base_uri": "https://localhost:8080/",
          "height": 296
        },
        "id": "utw0UDXJsMe9",
        "outputId": "b7bc9a80-8af5-4ad1-ffc6-4528bde2c239"
      },
      "source": [
        "sns.boxplot(x=\"Gender\", y=\"Total_Males\", data=tourism_data)"
      ],
      "execution_count": 13,
      "outputs": [
        {
          "output_type": "execute_result",
          "data": {
            "text/plain": [
              "<matplotlib.axes._subplots.AxesSubplot at 0x7f6bfdbb6350>"
            ]
          },
          "metadata": {},
          "execution_count": 13
        },
        {
          "output_type": "display_data",
          "data": {
            "image/png": "[encoded data removed]",
            "text/plain": [
              "<Figure size 432x288 with 1 Axes>"
            ]
          },
          "metadata": {
            "needs_background": "light"
          }
        }
      ]
    },
    {
      "cell_type": "code",
      "metadata": {
        "colab": {
          "base_uri": "https://localhost:8080/",
          "height": 296
        },
        "id": "lmE1pg1Fsgm5",
        "outputId": "45cb84b1-5b8a-4a1b-f983-3cae585e953c"
      },
      "source": [
        "sns.boxplot(x=\"Gender\", y=\"Total_Females\", data=tourism_data)"
      ],
      "execution_count": 14,
      "outputs": [
        {
          "output_type": "execute_result",
          "data": {
            "text/plain": [
              "<matplotlib.axes._subplots.AxesSubplot at 0x7f6bfdb07e50>"
            ]
          },
          "metadata": {},
          "execution_count": 14
        },
        {
          "output_type": "display_data",
          "data": {
            "image/png": "[encoded data removed]",
            "text/plain": [
              "<Figure size 432x288 with 1 Axes>"
            ]
          },
          "metadata": {
            "needs_background": "light"
          }
        }
      ]
    },
    {
      "cell_type": "code",
      "metadata": {
        "colab": {
          "base_uri": "https://localhost:8080/",
          "height": 296
        },
        "id": "e9gu2Uaut9h3",
        "outputId": "c19d4b75-6e9b-473d-b2d1-ff7d6a801399"
      },
      "source": [
        "sns.countplot(x=tourism_data[\"Gender\"])"
      ],
      "execution_count": 15,
      "outputs": [
        {
          "output_type": "execute_result",
          "data": {
            "text/plain": [
              "<matplotlib.axes._subplots.AxesSubplot at 0x7f6bf9e93b50>"
            ]
          },
          "metadata": {},
          "execution_count": 15
        },
        {
          "output_type": "display_data",
          "data": {
            "image/png": "[encoded data removed]",
            "text/plain": [
              "<Figure size 432x288 with 1 Axes>"
            ]
          },
          "metadata": {
            "needs_background": "light"
          }
        }
      ]
    },
    {
      "cell_type": "code",
      "metadata": {
        "colab": {
          "base_uri": "https://localhost:8080/",
          "height": 297
        },
        "id": "ZvnOsXX4uiOP",
        "outputId": "f1d5cec7-9306-4047-ae0e-7fcd4d7c696b"
      },
      "source": [
        "sns.countplot(x=tourism_data[\"Amount_Spent\"])"
      ],
      "execution_count": 17,
      "outputs": [
        {
          "output_type": "execute_result",
          "data": {
            "text/plain": [
              "<matplotlib.axes._subplots.AxesSubplot at 0x7f6bfdaf4f10>"
            ]
          },
          "metadata": {},
          "execution_count": 17
        },
        {
          "output_type": "display_data",
          "data": {
            "image/png": "[encoded data removed]",
            "text/plain": [
              "<Figure size 432x288 with 1 Axes>"
            ]
          },
          "metadata": {
            "needs_background": "light"
          }
        }
      ]
    },
    {
      "cell_type": "code",
      "metadata": {
        "colab": {
          "base_uri": "https://localhost:8080/"
        },
        "id": "joyUDisLuw2B",
        "outputId": "7cf0cfde-6e05-4d7f-acbd-5502a8f48bcf"
      },
      "source": [
        "tourism_data.info()"
      ],
      "execution_count": 18,
      "outputs": [
        {
          "output_type": "stream",
          "name": "stdout",
          "text": [
            "<class 'pandas.core.frame.DataFrame'>\n",
            "RangeIndex: 51 entries, 0 to 50\n",
            "Data columns (total 11 columns):\n",
            " #   Column                Non-Null Count  Dtype \n",
            "---  ------                --------------  ----- \n",
            " 0   Gender                51 non-null     object\n",
            " 1   Age_Group             51 non-null     object\n",
            " 2   Attraction_Visited    51 non-null     object\n",
            " 3   Days_Spent            51 non-null     int64 \n",
            " 4   State_Located         51 non-null     object\n",
            " 5   Persons_Visited_With  51 non-null     object\n",
            " 6   Total_Females         51 non-null     int64 \n",
            " 7   Total_Males           51 non-null     int64 \n",
            " 8   Purpose_of_Visit      51 non-null     object\n",
            " 9   Amount_Spent          51 non-null     int64 \n",
            " 10  Nature_of_Spender     51 non-null     object\n",
            "dtypes: int64(4), object(7)\n",
            "memory usage: 4.5+ KB\n"
          ]
        }
      ]
    },
    {
      "cell_type": "code",
      "metadata": {
        "colab": {
          "base_uri": "https://localhost:8080/",
          "height": 297
        },
        "id": "sS5GvaXqvtR0",
        "outputId": "d92c8025-0fba-4e8f-b2b6-3600a88368de"
      },
      "source": [
        "sns.countplot(x=tourism_data[\"Purpose_of_Visit\"])"
      ],
      "execution_count": 20,
      "outputs": [
        {
          "output_type": "execute_result",
          "data": {
            "text/plain": [
              "<matplotlib.axes._subplots.AxesSubplot at 0x7f6bf9161fd0>"
            ]
          },
          "metadata": {},
          "execution_count": 20
        },
        {
          "output_type": "display_data",
          "data": {
            "image/png": "[encoded data removed]",
            "text/plain": [
              "<Figure size 432x288 with 1 Axes>"
            ]
          },
          "metadata": {
            "needs_background": "light"
          }
        }
      ]
    },
    {
      "cell_type": "code",
      "metadata": {
        "colab": {
          "base_uri": "https://localhost:8080/",
          "height": 297
        },
        "id": "WGN0HB-CwL5Q",
        "outputId": "bce76c4e-77ff-42bc-c5d9-58e672691c4b"
      },
      "source": [
        "sns.countplot(x=tourism_data[\"Amount_Spent\"])"
      ],
      "execution_count": 21,
      "outputs": [
        {
          "output_type": "execute_result",
          "data": {
            "text/plain": [
              "<matplotlib.axes._subplots.AxesSubplot at 0x7f6bf8f2a2d0>"
            ]
          },
          "metadata": {},
          "execution_count": 21
        },
        {
          "output_type": "display_data",
          "data": {
            "image/png": "[encoded data removed]",
            "text/plain": [
              "<Figure size 432x288 with 1 Axes>"
            ]
          },
          "metadata": {
            "needs_background": "light"
          }
        }
      ]
    },
    {
      "cell_type": "code",
      "metadata": {
        "colab": {
          "base_uri": "https://localhost:8080/",
          "height": 298
        },
        "id": "gfN9FLpWwcVI",
        "outputId": "b27222ee-b06c-42a5-9ee6-a43f2df84b43"
      },
      "source": [
        "sns.countplot(x=tourism_data[\"Age_Group\"])"
      ],
      "execution_count": 22,
      "outputs": [
        {
          "output_type": "execute_result",
          "data": {
            "text/plain": [
              "<matplotlib.axes._subplots.AxesSubplot at 0x7f6bf8e15710>"
            ]
          },
          "metadata": {},
          "execution_count": 22
        },
        {
          "output_type": "display_data",
          "data": {
            "image/png": "[encoded data removed]",
            "text/plain": [
              "<Figure size 432x288 with 1 Axes>"
            ]
          },
          "metadata": {
            "needs_background": "light"
          }
        }
      ]
    },
    {
      "cell_type": "code",
      "metadata": {
        "colab": {
          "base_uri": "https://localhost:8080/",
          "height": 297
        },
        "id": "U9pACLCRwmlX",
        "outputId": "faa51647-b57e-49c0-e6b6-742f034e60ee"
      },
      "source": [
        "sns.countplot(x=tourism_data[\"Days_Spent\"])"
      ],
      "execution_count": 26,
      "outputs": [
        {
          "output_type": "execute_result",
          "data": {
            "text/plain": [
              "<matplotlib.axes._subplots.AxesSubplot at 0x7f6bf8c8de50>"
            ]
          },
          "metadata": {},
          "execution_count": 26
        },
        {
          "output_type": "display_data",
          "data": {
            "image/png": "[encoded data removed]",
            "text/plain": [
              "<Figure size 432x288 with 1 Axes>"
            ]
          },
          "metadata": {
            "needs_background": "light"
          }
        }
      ]
    },
    {
      "cell_type": "code",
      "metadata": {
        "colab": {
          "base_uri": "https://localhost:8080/",
          "height": 308
        },
        "id": "enA7wu0HydBc",
        "outputId": "4a65f898-966a-4e2d-e6dc-1ef2bd03bec2"
      },
      "source": [
        "sns.boxplot(x=\"Days_Spent\", y=\"Amount_Spent\", data=tourism_data)"
      ],
      "execution_count": 31,
      "outputs": [
        {
          "output_type": "execute_result",
          "data": {
            "text/plain": [
              "<matplotlib.axes._subplots.AxesSubplot at 0x7f6bf887a890>"
            ]
          },
          "metadata": {},
          "execution_count": 31
        },
        {
          "output_type": "display_data",
          "data": {
            "image/png": "[encoded data removed]",
            "text/plain": [
              "<Figure size 432x288 with 1 Axes>"
            ]
          },
          "metadata": {
            "needs_background": "light"
          }
        }
      ]
    },
    {
      "cell_type": "code",
      "metadata": {
        "colab": {
          "base_uri": "https://localhost:8080/",
          "height": 308
        },
        "id": "8nYaQEwHzYZ1",
        "outputId": "074bc85a-e6e6-4740-efdb-8dca006213bd"
      },
      "source": [
        "sns.boxplot(x=\"Age_Group\", y=\"Amount_Spent\", data=tourism_data)"
      ],
      "execution_count": 32,
      "outputs": [
        {
          "output_type": "execute_result",
          "data": {
            "text/plain": [
              "<matplotlib.axes._subplots.AxesSubplot at 0x7f6bf87a1110>"
            ]
          },
          "metadata": {},
          "execution_count": 32
        },
        {
          "output_type": "display_data",
          "data": {
            "image/png": "[encoded data removed]",
            "text/plain": [
              "<Figure size 432x288 with 1 Axes>"
            ]
          },
          "metadata": {
            "needs_background": "light"
          }
        }
      ]
    },
    {
      "cell_type": "code",
      "metadata": {
        "colab": {
          "base_uri": "https://localhost:8080/"
        },
        "id": "tVRTze2mz0If",
        "outputId": "a937d8a0-2d3a-4838-d9d8-3c76f89c3f27"
      },
      "source": [
        "tourism_data['Amount_Spent'].max()"
      ],
      "execution_count": 33,
      "outputs": [
        {
          "output_type": "execute_result",
          "data": {
            "text/plain": [
              "1000000"
            ]
          },
          "metadata": {},
          "execution_count": 33
        }
      ]
    },
    {
      "cell_type": "code",
      "metadata": {
        "colab": {
          "base_uri": "https://localhost:8080/"
        },
        "id": "dWrhfyJF0CAx",
        "outputId": "2d1c6d76-c0cf-438f-c173-8a91fc29a9c7"
      },
      "source": [
        "tourism_data['Days_Spent'].max()"
      ],
      "execution_count": 34,
      "outputs": [
        {
          "output_type": "execute_result",
          "data": {
            "text/plain": [
              "72"
            ]
          },
          "metadata": {},
          "execution_count": 34
        }
      ]
    },
    {
      "cell_type": "code",
      "metadata": {
        "colab": {
          "base_uri": "https://localhost:8080/"
        },
        "id": "ecsLbHxT0J4w",
        "outputId": "63d7e012-048d-4f3c-f35e-54242fac3989"
      },
      "source": [
        "tourism_data['Amount_Spent'].min()"
      ],
      "execution_count": 35,
      "outputs": [
        {
          "output_type": "execute_result",
          "data": {
            "text/plain": [
              "1000"
            ]
          },
          "metadata": {},
          "execution_count": 35
        }
      ]
    },
    {
      "cell_type": "code",
      "metadata": {
        "colab": {
          "base_uri": "https://localhost:8080/"
        },
        "id": "MQRFD1us0R3Z",
        "outputId": "5e478e98-32d8-41ab-f768-c9d1d9e4c7bb"
      },
      "source": [
        "tourism_data['Days_Spent'].min() "
      ],
      "execution_count": 36,
      "outputs": [
        {
          "output_type": "execute_result",
          "data": {
            "text/plain": [
              "1"
            ]
          },
          "metadata": {},
          "execution_count": 36
        }
      ]
    },
    {
      "cell_type": "code",
      "metadata": {
        "colab": {
          "base_uri": "https://localhost:8080/"
        },
        "id": "1F5n7Y0C1uA6",
        "outputId": "8d2ca48c-d1ee-42a0-bc0d-4c459e15faeb"
      },
      "source": [
        "tourism_data.info()"
      ],
      "execution_count": 37,
      "outputs": [
        {
          "output_type": "stream",
          "name": "stdout",
          "text": [
            "<class 'pandas.core.frame.DataFrame'>\n",
            "RangeIndex: 51 entries, 0 to 50\n",
            "Data columns (total 11 columns):\n",
            " #   Column                Non-Null Count  Dtype \n",
            "---  ------                --------------  ----- \n",
            " 0   Gender                51 non-null     object\n",
            " 1   Age_Group             51 non-null     object\n",
            " 2   Attraction_Visited    51 non-null     object\n",
            " 3   Days_Spent            51 non-null     int64 \n",
            " 4   State_Located         51 non-null     object\n",
            " 5   Persons_Visited_With  51 non-null     object\n",
            " 6   Total_Females         51 non-null     int64 \n",
            " 7   Total_Males           51 non-null     int64 \n",
            " 8   Purpose_of_Visit      51 non-null     object\n",
            " 9   Amount_Spent          51 non-null     int64 \n",
            " 10  Nature_of_Spender     51 non-null     object\n",
            "dtypes: int64(4), object(7)\n",
            "memory usage: 4.5+ KB\n"
          ]
        }
      ]
    },
    {
      "cell_type": "code",
      "metadata": {
        "colab": {
          "base_uri": "https://localhost:8080/"
        },
        "id": "kqUJvWsX16bU",
        "outputId": "9fe07427-1afa-4a91-fdec-acec7bcf5b0f"
      },
      "source": [
        "tourism_data[\"Total_Females\"].max()"
      ],
      "execution_count": 40,
      "outputs": [
        {
          "output_type": "execute_result",
          "data": {
            "text/plain": [
              "50"
            ]
          },
          "metadata": {},
          "execution_count": 40
        }
      ]
    },
    {
      "cell_type": "code",
      "metadata": {
        "colab": {
          "base_uri": "https://localhost:8080/"
        },
        "id": "4y_S6h0b2Hs-",
        "outputId": "112fadb7-8207-4e0f-a7db-076f91460a34"
      },
      "source": [
        "tourism_data[\"Total_Females\"].min()"
      ],
      "execution_count": 42,
      "outputs": [
        {
          "output_type": "execute_result",
          "data": {
            "text/plain": [
              "0"
            ]
          },
          "metadata": {},
          "execution_count": 42
        }
      ]
    },
    {
      "cell_type": "code",
      "metadata": {
        "colab": {
          "base_uri": "https://localhost:8080/"
        },
        "id": "knYsyK-72V0C",
        "outputId": "45b87924-f8cf-4193-8339-1a7305b0be3e"
      },
      "source": [
        "tourism_data[\"Total_Males\"].max()"
      ],
      "execution_count": 43,
      "outputs": [
        {
          "output_type": "execute_result",
          "data": {
            "text/plain": [
              "50"
            ]
          },
          "metadata": {},
          "execution_count": 43
        }
      ]
    },
    {
      "cell_type": "code",
      "metadata": {
        "colab": {
          "base_uri": "https://localhost:8080/"
        },
        "id": "cv6qP2d52dU2",
        "outputId": "77c50cca-9017-453c-87e2-1ccd22c284a4"
      },
      "source": [
        "tourism_data[\"Total_Males\"].min()"
      ],
      "execution_count": 44,
      "outputs": [
        {
          "output_type": "execute_result",
          "data": {
            "text/plain": [
              "0"
            ]
          },
          "metadata": {},
          "execution_count": 44
        }
      ]
    },
    {
      "cell_type": "code",
      "metadata": {
        "colab": {
          "base_uri": "https://localhost:8080/",
          "height": 35
        },
        "id": "o1vhK6i42lX7",
        "outputId": "1ae9f692-9929-4f37-aba8-c9a093f519ac"
      },
      "source": [
        "tourism_data[\"Gender\"].max()"
      ],
      "execution_count": 49,
      "outputs": [
        {
          "output_type": "execute_result",
          "data": {
            "application/vnd.google.colaboratory.intrinsic+json": {
              "type": "string"
            },
            "text/plain": [
              "'Male'"
            ]
          },
          "metadata": {},
          "execution_count": 49
        }
      ]
    },
    {
      "cell_type": "code",
      "metadata": {
        "id": "TCvWdT4f4-re"
      },
      "source": [
        "n = 5 + np.random.randn(1000)"
      ],
      "execution_count": null,
      "outputs": []
    },
    {
      "cell_type": "code",
      "metadata": {
        "id": "spPY3kgM47Ab"
      },
      "source": [
        ""
      ],
      "execution_count": null,
      "outputs": []
    }
  ]
}